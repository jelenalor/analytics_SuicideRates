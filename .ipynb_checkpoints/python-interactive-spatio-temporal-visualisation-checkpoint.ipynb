{
 "cells": [
  {
   "cell_type": "markdown",
   "metadata": {},
   "source": [
    "\n"
   ]
  },
  {
   "cell_type": "markdown",
   "metadata": {},
   "source": [
    "__Table of Content__\n",
    "\n",
    "1. Library Import\n",
    "2. Data Import\n",
    "3. Data Wrangling\n",
    "4. Code\n",
    "5. Visualisation"
   ]
  },
  {
   "cell_type": "markdown",
   "metadata": {},
   "source": [
    "\n"
   ]
  },
  {
   "cell_type": "markdown",
   "metadata": {},
   "source": [
    "## 1. Library Import"
   ]
  },
  {
   "cell_type": "code",
   "execution_count": 1,
   "metadata": {},
   "outputs": [],
   "source": [
    "import pandas as pd\n",
    "import numpy as np\n",
    "import seaborn as sns\n",
    "sns.set_style(\"whitegrid\",{'axes.axisbelow': False,'grid.color': 'w','axes.spines.bottom': False, 'axes.spines.left': False, 'axes.spines.right': False,\n",
    " 'axes.spines.top': False})\n",
    "import matplotlib.pyplot as plt\n",
    "from ipywidgets import interact, interactive, widgets, Layout\n",
    "import geopandas as gpd"
   ]
  },
  {
   "cell_type": "markdown",
   "metadata": {},
   "source": [
    "## 2. Data Import"
   ]
  },
  {
   "cell_type": "code",
   "execution_count": 2,
   "metadata": {},
   "outputs": [],
   "source": [
    "data = pd.read_csv(\"master.csv\")\n",
    "# Import Geopandas World Dataset to map countries\n",
    "world = gpd.read_file(gpd.datasets.get_path('naturalearth_lowres'))"
   ]
  },
  {
   "cell_type": "markdown",
   "metadata": {},
   "source": [
    "## 3. Data Wrangling"
   ]
  },
  {
   "cell_type": "code",
   "execution_count": 3,
   "metadata": {},
   "outputs": [],
   "source": [
    "# Make the name of the countries consistent across both datasets\n",
    "country_mapping = {\"Bosnia and Herzegovina\":\"Bosnia and Herz.\", \"Czech Republic\":\"Czech Rep.\", \n",
    "                   \"Dominica\":\"Dominican Rep.\", \"Russian Federation\":\"Russia\"}\n",
    "data[\"country\"] = data[\"country\"].map(country_mapping).fillna(data[\"country\"])"
   ]
  },
  {
   "cell_type": "markdown",
   "metadata": {},
   "source": [
    "## 4. Code"
   ]
  },
  {
   "cell_type": "code",
   "execution_count": 4,
   "metadata": {},
   "outputs": [],
   "source": [
    "def mapRatesByYear(year):\n",
    "    fig, ax = plt.subplots(figsize = (18, 8))\n",
    "    # Data prep\n",
    "    data_pivot_total = pd.pivot_table(data[data[\"year\"] == year], \n",
    "                                      index = \"country\", values = \"suicides/100k pop\", \n",
    "                                      aggfunc = \"sum\", fill_value = 0)\n",
    "    world_subplot = world.merge(data_pivot_total, left_on = \"name\", right_on = \"country\", \n",
    "                                how = \"left\").fillna( value = 0)\n",
    "    # Plot\n",
    "    world_subplot.plot(ax = ax, column = \"suicides/100k pop\", legend = True, cmap = \"YlGn\", edgecolor = \"0.8\")\n",
    "    ax.set_xticks([])\n",
    "    ax.set_yticks([])\n",
    "    ax.set_title(\"Year: \" + str(year), fontsize = 20, loc = \"left\")\n",
    "    \n",
    "    # comments display\n",
    "    print(\"Top 5 countries\")\n",
    "    top5 = data_pivot_total.sort_values(by = \"suicides/100k pop\" , ascending = False)[:5]\n",
    "    i = 1\n",
    "    for c, v in zip(top5.index, top5[\"suicides/100k pop\"].values):\n",
    "        print(str(i) + \". \" + str(c) + \" - \" + str(int(v)))\n",
    "        i += 1\n",
    "    plt.show()\n",
    "    \n",
    "#Interactive\n",
    "mapByYear = interactive(mapRatesByYear, year = widgets.IntSlider(min = 1985, max = 2015, step = 3, value = 10))"
   ]
  },
  {
   "cell_type": "code",
   "execution_count": 5,
   "metadata": {},
   "outputs": [],
   "source": [
    "def plotBarPie(year, country):\n",
    "    fig = plt.figure(figsize = (12, 4))\n",
    "    # Use grid to give 3/5 space to the bar plot and 2/5 space to pie chart\n",
    "    grid = plt.GridSpec(1, 5, wspace = 0.1, hspace = 0.5)\n",
    "    # Filter data\n",
    "    subset = data[(data[\"year\"] == year) & ( data[\"country\"] == country)]\n",
    "    # Check for emptry data\n",
    "    if len(subset) == 0:\n",
    "        print(\"No data available\")\n",
    "    else:\n",
    "        # Bar plot\n",
    "        ax1 = plt.subplot(grid[0, :3])\n",
    "        # Data prep\n",
    "        data_pivot_age = pd.pivot_table(subset, index = \"country\", columns = \"age\", \n",
    "                                        values = \"suicides/100k pop\", aggfunc = \"sum\", fill_value = 0)\n",
    "        # Sort the age groups to be presented in its logical order along the x-axis\n",
    "        sort_key = np.argsort([int(i.replace(\"+\", \"-\").split(\"-\")[0]) for i in data[\"age\"].unique()])\n",
    "        sorted_age_group = [data[\"age\"].unique()[i] for i in sort_key]\n",
    "        # plot\n",
    "        sns.barplot(data = data_pivot_age, order = sorted_age_group)\n",
    "        ax1.set_xlabel(\"\")\n",
    "        ax1.set_title(str(country) + \" - Breakdown by age and gender \\n\", fontsize = 16, loc = \"left\", color = \"#8B1A1A\")\n",
    "        \n",
    "        # Pie Chart\n",
    "        ax2 = plt.subplot(grid[0, 3:])\n",
    "        # Data prep\n",
    "        data_pivot_gender = pd.pivot_table(subset, index = \"country\", \n",
    "                                           columns = \"sex\", values = \"suicides/100k pop\", \n",
    "                                           aggfunc = \"sum\", fill_value = 0)\n",
    "        # plot\n",
    "        ax2.pie(data_pivot_gender.values[0], labels = data_pivot_gender.columns, \n",
    "                autopct = \"%1.1f%%\", colors = [\"#CD661D\", \"#A2CD5A\"])\n",
    "    plt.show()\n",
    "\n",
    "# Interactive\n",
    "# Extract top 20 countries by suicide rates to present in the dropdown\n",
    "data_pivot_total = pd.pivot_table(data, index = \"country\", \n",
    "                                        values = \"suicides/100k pop\", aggfunc = \"sum\", fill_value = 0)\n",
    "top_20_countries = data_pivot_total.sort_values(by = \"suicides/100k pop\" , ascending = False)[:20].index.tolist()\n",
    "# Initiate the slider\n",
    "year_slider = widgets.IntSlider(min = 1985, max = 2015, step = 5, value = 10, \n",
    "                                layout = Layout(width = \"98%\"))\n",
    "# Initiate the dropdown\n",
    "country_dropdown = widgets.Dropdown(\n",
    "    options = sorted(top_20_countries),\n",
    "    description = \"country\",\n",
    "    disabled = False, layout = Layout(width = \"99%\")\n",
    ")\n",
    "out = widgets.interactive_output(plotBarPie, {'year': year_slider, 'country': country_dropdown})"
   ]
  },
  {
   "cell_type": "markdown",
   "metadata": {},
   "source": [
    "## 5. Visualization"
   ]
  },
  {
   "cell_type": "markdown",
   "metadata": {},
   "source": [
    "Vis. 1 - Use the slider to explore how the suicide rates (suicides/100k pop) by country change through time (every 3 year interval) between 1985 and 2015.\n",
    "<br>\n",
    "Vis. 2 - Choose the country to use the slider to explore the breakdown of suicide rates by age and gender. "
   ]
  },
  {
   "cell_type": "code",
   "execution_count": 6,
   "metadata": {},
   "outputs": [
    {
     "data": {
      "application/vnd.jupyter.widget-view+json": {
       "model_id": "98fcf0f9cb8747f8a2744fd803a5c92a",
       "version_major": 2,
       "version_minor": 0
      },
      "text/plain": [
       "interactive(children=(IntSlider(value=1985, description='year', max=2015, min=1985, step=3), Output()), _dom_c…"
      ]
     },
     "metadata": {},
     "output_type": "display_data"
    }
   ],
   "source": [
    "mapByYear"
   ]
  },
  {
   "cell_type": "markdown",
   "metadata": {},
   "source": [
    "**Comments**\n",
    "<br>\n",
    " - Before the dissolution of Soviet Union in 1991, there were no much data on the suicide rates for Soviet Union Countries\n",
    " - Before 1991 Sri Lanka and Suriname had the highest suicide rates\n",
    " - From 1991 we can see most of the Soviet Countries (Russia, Latvia, Lithuania, Hungary, Estonia) maintain the highest suicide rates up until 2006\n",
    " - Post 2006 Korea has the highest suicide rates"
   ]
  },
  {
   "cell_type": "code",
   "execution_count": 7,
   "metadata": {},
   "outputs": [
    {
     "data": {
      "application/vnd.jupyter.widget-view+json": {
       "model_id": "f5e18b8b10194b7bb4e79a70c4a696e0",
       "version_major": 2,
       "version_minor": 0
      },
      "text/plain": [
       "HBox(children=(VBox(children=(IntSlider(value=1985, layout=Layout(width='98%'), max=2015, min=1985, step=5), D…"
      ]
     },
     "metadata": {},
     "output_type": "display_data"
    }
   ],
   "source": [
    "widgets.HBox([widgets.VBox([year_slider, country_dropdown]), out])"
   ]
  },
  {
   "cell_type": "markdown",
   "metadata": {},
   "source": [
    "**Comments**\n",
    "<br>\n",
    "- In Russian most suicides are performed by males (mostly more than 80%)\n",
    "- Japan see higher rate of female suicides than Russia (around 30%)\n",
    "- Japan suicide rates among younger people are raising, wheres in Russia these are dropping\n",
    "- Singapore saw one of the highest suicide rates among women (43%) during 1990s.\n",
    "- Finland has proportionaly high suicide rates across all age groups\n",
    "\n",
    "\n",
    "* Overall, there is more male suicides compared to female\n",
    "* Suicide rates rise with age group."
   ]
  },
  {
   "cell_type": "code",
   "execution_count": null,
   "metadata": {},
   "outputs": [],
   "source": []
  },
  {
   "cell_type": "code",
   "execution_count": null,
   "metadata": {},
   "outputs": [],
   "source": []
  },
  {
   "cell_type": "code",
   "execution_count": null,
   "metadata": {},
   "outputs": [],
   "source": []
  },
  {
   "cell_type": "code",
   "execution_count": null,
   "metadata": {},
   "outputs": [],
   "source": []
  },
  {
   "cell_type": "code",
   "execution_count": null,
   "metadata": {},
   "outputs": [],
   "source": []
  },
  {
   "cell_type": "code",
   "execution_count": null,
   "metadata": {},
   "outputs": [],
   "source": []
  }
 ],
 "metadata": {
  "kernelspec": {
   "display_name": "Python 3",
   "language": "python",
   "name": "python3"
  },
  "language_info": {
   "codemirror_mode": {
    "name": "ipython",
    "version": 3
   },
   "file_extension": ".py",
   "mimetype": "text/x-python",
   "name": "python",
   "nbconvert_exporter": "python",
   "pygments_lexer": "ipython3",
   "version": "3.7.3"
  },
  "toc": {
   "base_numbering": 1,
   "nav_menu": {},
   "number_sections": true,
   "sideBar": false,
   "skip_h1_title": false,
   "title_cell": "Table of Contents",
   "title_sidebar": "Contents",
   "toc_cell": false,
   "toc_position": {
    "height": "581.578px",
    "left": "10px",
    "top": "150px",
    "width": "195.695px"
   },
   "toc_section_display": true,
   "toc_window_display": true
  }
 },
 "nbformat": 4,
 "nbformat_minor": 2
}
